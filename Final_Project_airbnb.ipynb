{
 "cells": [
  {
   "cell_type": "markdown",
   "id": "5daa76fe",
   "metadata": {
    "id": "5daa76fe"
   },
   "source": [
    "<center><h1>Final Project</h1></center>\n",
    "\n",
    "\n",
    "# Pre-requisite\n",
    "\n",
    "* Understanding of Python\n",
    "* Understanding of Data Cleaning\n",
    "\n",
    "#### Level of Exercise: Beginner\n",
    "\n",
    "#### Duration: 4 hours\n"
   ]
  },
  {
   "cell_type": "markdown",
   "id": "ce8639cb",
   "metadata": {
    "id": "ce8639cb"
   },
   "source": [
    "### Project Details:\n",
    "\n",
    "#### Objective:\n",
    "\n",
    "In this exericise, you will be working an Open Dataset dataset coming from Airbnb. Some of the tasks include\n",
    "- Data Cleaning.\n",
    "- Data Transformation\n",
    "\n",
    "#### Overview of Airbnb Data:\n",
    "\n",
    "People's main criteria when visiting new places are reasonable accommodation and food. Airbnb (Air-Bed-Breakfast) is an online marketplace created to meet this need of people by renting out their homes for a short term. They offer this facility at a relatively lower price than hotels. Further people worldwide prefer the homely and economical service offered by them. They offer services across various geographical locations\n",
    "\n",
    "#### Dataset Source\n",
    "\n",
    "You can get the dataset for this assessment using the following link: https://www.kaggle.com/datasets/arianazmoudeh/airbnbopendata\n",
    "\n",
    "This dataset contains information such as the neighborhood offering these services, room type, price,avaliabilty, reviews, service fee, cancellation policy and rules to use the house. This analysis will help airbnb in improving its services.  \n",
    "\n",
    "So all the best for your Data Journey on Airbnb data!!!"
   ]
  },
  {
   "cell_type": "code",
   "execution_count": null,
   "id": "2332c793-6742-41b5-afeb-82da0fc36eba",
   "metadata": {},
   "outputs": [],
   "source": []
  },
  {
   "cell_type": "code",
   "execution_count": null,
   "id": "bb4fbaff-af45-4d3d-8040-0d7477f7701b",
   "metadata": {},
   "outputs": [],
   "source": []
  },
  {
   "cell_type": "markdown",
   "id": "9a86cf69",
   "metadata": {
    "id": "9a86cf69"
   },
   "source": [
    "## Task 1: Data Loading (Python)\n",
    "\n",
    "1. Read the csv file and load it into a pandas dataframe.\n",
    "2. Display the first five rows of your dataframe.\n",
    "3. Display the data types of the columns."
   ]
  },
  {
   "cell_type": "code",
   "execution_count": 2,
   "id": "3e5ea376",
   "metadata": {
    "id": "3e5ea376"
   },
   "outputs": [],
   "source": [
    "## Import Libraries\n",
    "import pandas as pd\n",
    "import numpy as np"
   ]
  },
  {
   "cell_type": "code",
   "execution_count": 3,
   "id": "51fbbad8-1e04-466b-9147-8ab5c0f91403",
   "metadata": {},
   "outputs": [],
   "source": [
    "## Read the csv file\n",
    "readCSV = pd.read_csv('/Users/sandilyamekala/Downloads/Airbnb_Open_Data.csv', low_memory=False)"
   ]
  },
  {
   "cell_type": "code",
   "execution_count": 4,
   "id": "3950965e",
   "metadata": {},
   "outputs": [
    {
     "name": "stdout",
     "output_type": "stream",
     "text": [
      "             id                                              NAME  \\\n",
      "0       1001254                Clean & quiet apt home by the park   \n",
      "1       1002102                             Skylit Midtown Castle   \n",
      "2       1002403               THE VILLAGE OF HARLEM....NEW YORK !   \n",
      "3       1002755                                               NaN   \n",
      "4       1003689  Entire Apt: Spacious Studio/Loft by central park   \n",
      "...         ...                                               ...   \n",
      "102594  6092437                        Spare room in Williamsburg   \n",
      "102595  6092990                     Best Location near Columbia U   \n",
      "102596  6093542                    Comfy, bright room in Brooklyn   \n",
      "102597  6094094                  Big Studio-One Stop from Midtown   \n",
      "102598  6094647                              585 sf Luxury Studio   \n",
      "\n",
      "            host id host_identity_verified    host name neighbourhood group  \\\n",
      "0       80014485718            unconfirmed     Madaline            Brooklyn   \n",
      "1       52335172823               verified        Jenna           Manhattan   \n",
      "2       78829239556                    NaN        Elise           Manhattan   \n",
      "3       85098326012            unconfirmed        Garry            Brooklyn   \n",
      "4       92037596077               verified       Lyndon           Manhattan   \n",
      "...             ...                    ...          ...                 ...   \n",
      "102594  12312296767               verified         Krik            Brooklyn   \n",
      "102595  77864383453            unconfirmed        Mifan           Manhattan   \n",
      "102596  69050334417            unconfirmed        Megan            Brooklyn   \n",
      "102597  11160591270            unconfirmed  Christopher              Queens   \n",
      "102598  68170633372            unconfirmed      Rebecca           Manhattan   \n",
      "\n",
      "              neighbourhood       lat      long        country  ...  \\\n",
      "0                Kensington  40.64749 -73.97237  United States  ...   \n",
      "1                   Midtown  40.75362 -73.98377  United States  ...   \n",
      "2                    Harlem  40.80902 -73.94190  United States  ...   \n",
      "3              Clinton Hill  40.68514 -73.95976  United States  ...   \n",
      "4               East Harlem  40.79851 -73.94399  United States  ...   \n",
      "...                     ...       ...       ...            ...  ...   \n",
      "102594         Williamsburg  40.70862 -73.94651  United States  ...   \n",
      "102595  Morningside Heights  40.80460 -73.96545  United States  ...   \n",
      "102596           Park Slope  40.67505 -73.98045  United States  ...   \n",
      "102597     Long Island City  40.74989 -73.93777  United States  ...   \n",
      "102598      Upper West Side  40.76807 -73.98342  United States  ...   \n",
      "\n",
      "       service fee minimum nights number of reviews last review  \\\n",
      "0            $193            10.0               9.0  10/19/2021   \n",
      "1             $28            30.0              45.0   5/21/2022   \n",
      "2            $124             3.0               0.0         NaN   \n",
      "3             $74            30.0             270.0    7/5/2019   \n",
      "4             $41            10.0               9.0  11/19/2018   \n",
      "...            ...            ...               ...         ...   \n",
      "102594       $169             1.0               0.0         NaN   \n",
      "102595       $167             1.0               1.0    7/6/2015   \n",
      "102596       $198             3.0               0.0         NaN   \n",
      "102597       $109             2.0               5.0  10/11/2015   \n",
      "102598       $206             1.0               0.0         NaN   \n",
      "\n",
      "        reviews per month review rate number calculated host listings count  \\\n",
      "0                    0.21                4.0                            6.0   \n",
      "1                    0.38                4.0                            2.0   \n",
      "2                     NaN                5.0                            1.0   \n",
      "3                    4.64                4.0                            1.0   \n",
      "4                    0.10                3.0                            1.0   \n",
      "...                   ...                ...                            ...   \n",
      "102594                NaN                3.0                            1.0   \n",
      "102595               0.02                2.0                            2.0   \n",
      "102596                NaN                5.0                            1.0   \n",
      "102597               0.10                3.0                            1.0   \n",
      "102598                NaN                3.0                            1.0   \n",
      "\n",
      "        availability 365                                        house_rules  \\\n",
      "0                  286.0  Clean up and treat the home the way you'd like...   \n",
      "1                  228.0  Pet friendly but please confirm with me if the...   \n",
      "2                  352.0  I encourage you to use my kitchen, cooking and...   \n",
      "3                  322.0                                                NaN   \n",
      "4                  289.0  Please no smoking in the house, porch or on th...   \n",
      "...                  ...                                                ...   \n",
      "102594             227.0  No Smoking No Parties or Events of any kind Pl...   \n",
      "102595             395.0  House rules: Guests agree to the following ter...   \n",
      "102596             342.0                                                NaN   \n",
      "102597             386.0                                                NaN   \n",
      "102598              69.0                                                NaN   \n",
      "\n",
      "       license  \n",
      "0          NaN  \n",
      "1          NaN  \n",
      "2          NaN  \n",
      "3          NaN  \n",
      "4          NaN  \n",
      "...        ...  \n",
      "102594     NaN  \n",
      "102595     NaN  \n",
      "102596     NaN  \n",
      "102597     NaN  \n",
      "102598     NaN  \n",
      "\n",
      "[102599 rows x 26 columns]\n"
     ]
    }
   ],
   "source": [
    "df = pd.DataFrame(data=readCSV)\n",
    "print(df)"
   ]
  },
  {
   "cell_type": "code",
   "execution_count": 5,
   "id": "18c08d94",
   "metadata": {
    "id": "18c08d94"
   },
   "outputs": [
    {
     "name": "stdout",
     "output_type": "stream",
     "text": [
      "        id                                              NAME      host id  \\\n",
      "0  1001254                Clean & quiet apt home by the park  80014485718   \n",
      "1  1002102                             Skylit Midtown Castle  52335172823   \n",
      "2  1002403               THE VILLAGE OF HARLEM....NEW YORK !  78829239556   \n",
      "3  1002755                                               NaN  85098326012   \n",
      "4  1003689  Entire Apt: Spacious Studio/Loft by central park  92037596077   \n",
      "\n",
      "  host_identity_verified host name neighbourhood group neighbourhood  \\\n",
      "0            unconfirmed  Madaline            Brooklyn    Kensington   \n",
      "1               verified     Jenna           Manhattan       Midtown   \n",
      "2                    NaN     Elise           Manhattan        Harlem   \n",
      "3            unconfirmed     Garry            Brooklyn  Clinton Hill   \n",
      "4               verified    Lyndon           Manhattan   East Harlem   \n",
      "\n",
      "        lat      long        country  ... service fee minimum nights  \\\n",
      "0  40.64749 -73.97237  United States  ...       $193            10.0   \n",
      "1  40.75362 -73.98377  United States  ...        $28            30.0   \n",
      "2  40.80902 -73.94190  United States  ...       $124             3.0   \n",
      "3  40.68514 -73.95976  United States  ...        $74            30.0   \n",
      "4  40.79851 -73.94399  United States  ...        $41            10.0   \n",
      "\n",
      "  number of reviews last review  reviews per month review rate number  \\\n",
      "0               9.0  10/19/2021               0.21                4.0   \n",
      "1              45.0   5/21/2022               0.38                4.0   \n",
      "2               0.0         NaN                NaN                5.0   \n",
      "3             270.0    7/5/2019               4.64                4.0   \n",
      "4               9.0  11/19/2018               0.10                3.0   \n",
      "\n",
      "  calculated host listings count  availability 365  \\\n",
      "0                            6.0             286.0   \n",
      "1                            2.0             228.0   \n",
      "2                            1.0             352.0   \n",
      "3                            1.0             322.0   \n",
      "4                            1.0             289.0   \n",
      "\n",
      "                                         house_rules license  \n",
      "0  Clean up and treat the home the way you'd like...     NaN  \n",
      "1  Pet friendly but please confirm with me if the...     NaN  \n",
      "2  I encourage you to use my kitchen, cooking and...     NaN  \n",
      "3                                                NaN     NaN  \n",
      "4  Please no smoking in the house, porch or on th...     NaN  \n",
      "\n",
      "[5 rows x 26 columns]\n"
     ]
    }
   ],
   "source": [
    "## Display the first 5 rows\n",
    "print(df.head())"
   ]
  },
  {
   "cell_type": "code",
   "execution_count": 6,
   "id": "0e61d56e",
   "metadata": {
    "id": "0e61d56e"
   },
   "outputs": [
    {
     "name": "stdout",
     "output_type": "stream",
     "text": [
      "id                                  int64\n",
      "NAME                               object\n",
      "host id                             int64\n",
      "host_identity_verified             object\n",
      "host name                          object\n",
      "neighbourhood group                object\n",
      "neighbourhood                      object\n",
      "lat                               float64\n",
      "long                              float64\n",
      "country                            object\n",
      "country code                       object\n",
      "instant_bookable                   object\n",
      "cancellation_policy                object\n",
      "room type                          object\n",
      "Construction year                 float64\n",
      "price                              object\n",
      "service fee                        object\n",
      "minimum nights                    float64\n",
      "number of reviews                 float64\n",
      "last review                        object\n",
      "reviews per month                 float64\n",
      "review rate number                float64\n",
      "calculated host listings count    float64\n",
      "availability 365                  float64\n",
      "house_rules                        object\n",
      "license                            object\n",
      "dtype: object\n"
     ]
    }
   ],
   "source": [
    "## Display the data types\n",
    "print(df.dtypes)"
   ]
  },
  {
   "cell_type": "markdown",
   "id": "0b2e801f",
   "metadata": {
    "id": "0b2e801f"
   },
   "source": [
    "## Task 2a: Data Cleaning\n",
    "\n",
    "1. Drop some of the unwanted columns. These include `host id`, `id`, `country` and `country code` from the dataset.\n",
    "\n",
    "Please include the code in the cells below."
   ]
  },
  {
   "cell_type": "code",
   "execution_count": 7,
   "id": "3de0751f",
   "metadata": {
    "id": "3de0751f"
   },
   "outputs": [],
   "source": [
    "df = df.drop(columns=['host id', 'id', 'country', 'country code'])"
   ]
  },
  {
   "cell_type": "code",
   "execution_count": 8,
   "id": "01bd2922-a607-4df9-a73e-204525d4d8a4",
   "metadata": {
    "id": "01bd2922-a607-4df9-a73e-204525d4d8a4"
   },
   "outputs": [
    {
     "name": "stdout",
     "output_type": "stream",
     "text": [
      "                                                    NAME  \\\n",
      "0                     Clean & quiet apt home by the park   \n",
      "1                                  Skylit Midtown Castle   \n",
      "2                    THE VILLAGE OF HARLEM....NEW YORK !   \n",
      "3                                                    NaN   \n",
      "4       Entire Apt: Spacious Studio/Loft by central park   \n",
      "...                                                  ...   \n",
      "102594                        Spare room in Williamsburg   \n",
      "102595                     Best Location near Columbia U   \n",
      "102596                    Comfy, bright room in Brooklyn   \n",
      "102597                  Big Studio-One Stop from Midtown   \n",
      "102598                              585 sf Luxury Studio   \n",
      "\n",
      "       host_identity_verified    host name neighbourhood group  \\\n",
      "0                 unconfirmed     Madaline            Brooklyn   \n",
      "1                    verified        Jenna           Manhattan   \n",
      "2                         NaN        Elise           Manhattan   \n",
      "3                 unconfirmed        Garry            Brooklyn   \n",
      "4                    verified       Lyndon           Manhattan   \n",
      "...                       ...          ...                 ...   \n",
      "102594               verified         Krik            Brooklyn   \n",
      "102595            unconfirmed        Mifan           Manhattan   \n",
      "102596            unconfirmed        Megan            Brooklyn   \n",
      "102597            unconfirmed  Christopher              Queens   \n",
      "102598            unconfirmed      Rebecca           Manhattan   \n",
      "\n",
      "              neighbourhood       lat      long instant_bookable  \\\n",
      "0                Kensington  40.64749 -73.97237            False   \n",
      "1                   Midtown  40.75362 -73.98377            False   \n",
      "2                    Harlem  40.80902 -73.94190             True   \n",
      "3              Clinton Hill  40.68514 -73.95976             True   \n",
      "4               East Harlem  40.79851 -73.94399            False   \n",
      "...                     ...       ...       ...              ...   \n",
      "102594         Williamsburg  40.70862 -73.94651            False   \n",
      "102595  Morningside Heights  40.80460 -73.96545             True   \n",
      "102596           Park Slope  40.67505 -73.98045             True   \n",
      "102597     Long Island City  40.74989 -73.93777             True   \n",
      "102598      Upper West Side  40.76807 -73.98342            False   \n",
      "\n",
      "       cancellation_policy        room type  ...  service fee minimum nights  \\\n",
      "0                   strict     Private room  ...        $193            10.0   \n",
      "1                 moderate  Entire home/apt  ...         $28            30.0   \n",
      "2                 flexible     Private room  ...        $124             3.0   \n",
      "3                 moderate  Entire home/apt  ...         $74            30.0   \n",
      "4                 moderate  Entire home/apt  ...         $41            10.0   \n",
      "...                    ...              ...  ...          ...            ...   \n",
      "102594            flexible     Private room  ...        $169             1.0   \n",
      "102595            moderate     Private room  ...        $167             1.0   \n",
      "102596            moderate     Private room  ...        $198             3.0   \n",
      "102597              strict  Entire home/apt  ...        $109             2.0   \n",
      "102598            flexible  Entire home/apt  ...        $206             1.0   \n",
      "\n",
      "       number of reviews  last review  reviews per month review rate number  \\\n",
      "0                    9.0   10/19/2021               0.21                4.0   \n",
      "1                   45.0    5/21/2022               0.38                4.0   \n",
      "2                    0.0          NaN                NaN                5.0   \n",
      "3                  270.0     7/5/2019               4.64                4.0   \n",
      "4                    9.0   11/19/2018               0.10                3.0   \n",
      "...                  ...          ...                ...                ...   \n",
      "102594               0.0          NaN                NaN                3.0   \n",
      "102595               1.0     7/6/2015               0.02                2.0   \n",
      "102596               0.0          NaN                NaN                5.0   \n",
      "102597               5.0   10/11/2015               0.10                3.0   \n",
      "102598               0.0          NaN                NaN                3.0   \n",
      "\n",
      "        calculated host listings count  availability 365  \\\n",
      "0                                  6.0             286.0   \n",
      "1                                  2.0             228.0   \n",
      "2                                  1.0             352.0   \n",
      "3                                  1.0             322.0   \n",
      "4                                  1.0             289.0   \n",
      "...                                ...               ...   \n",
      "102594                             1.0             227.0   \n",
      "102595                             2.0             395.0   \n",
      "102596                             1.0             342.0   \n",
      "102597                             1.0             386.0   \n",
      "102598                             1.0              69.0   \n",
      "\n",
      "                                              house_rules  license  \n",
      "0       Clean up and treat the home the way you'd like...      NaN  \n",
      "1       Pet friendly but please confirm with me if the...      NaN  \n",
      "2       I encourage you to use my kitchen, cooking and...      NaN  \n",
      "3                                                     NaN      NaN  \n",
      "4       Please no smoking in the house, porch or on th...      NaN  \n",
      "...                                                   ...      ...  \n",
      "102594  No Smoking No Parties or Events of any kind Pl...      NaN  \n",
      "102595  House rules: Guests agree to the following ter...      NaN  \n",
      "102596                                                NaN      NaN  \n",
      "102597                                                NaN      NaN  \n",
      "102598                                                NaN      NaN  \n",
      "\n",
      "[102599 rows x 22 columns]\n"
     ]
    }
   ],
   "source": [
    "print(df)"
   ]
  },
  {
   "cell_type": "code",
   "execution_count": 9,
   "id": "b7537ecf-cf3f-4a64-8538-883ec723fad8",
   "metadata": {
    "id": "b7537ecf-cf3f-4a64-8538-883ec723fad8"
   },
   "outputs": [
    {
     "name": "stdout",
     "output_type": "stream",
     "text": [
      "NAME                               object\n",
      "host_identity_verified             object\n",
      "host name                          object\n",
      "neighbourhood group                object\n",
      "neighbourhood                      object\n",
      "lat                               float64\n",
      "long                              float64\n",
      "instant_bookable                   object\n",
      "cancellation_policy                object\n",
      "room type                          object\n",
      "Construction year                 float64\n",
      "price                              object\n",
      "service fee                        object\n",
      "minimum nights                    float64\n",
      "number of reviews                 float64\n",
      "last review                        object\n",
      "reviews per month                 float64\n",
      "review rate number                float64\n",
      "calculated host listings count    float64\n",
      "availability 365                  float64\n",
      "house_rules                        object\n",
      "license                            object\n",
      "dtype: object\n"
     ]
    }
   ],
   "source": [
    "print(df.dtypes)"
   ]
  },
  {
   "cell_type": "markdown",
   "id": "2071cce7",
   "metadata": {
    "id": "2071cce7"
   },
   "source": [
    "## Task 2b: Data Cleaning\n",
    "\n",
    "- Check for missing values in the dataframe and display the count in ascending order. **If the values are missing, impute the values as per the datatype of the columns.**\n",
    "- Check whether there are any duplicate values in the dataframe and, if present, remove them.\n",
    "- Display the total number of records in the dataframe before and after removing the duplicates."
   ]
  },
  {
   "cell_type": "code",
   "execution_count": 16,
   "id": "e78c0409",
   "metadata": {
    "id": "e78c0409"
   },
   "outputs": [
    {
     "name": "stdout",
     "output_type": "stream",
     "text": [
      "room type                             0\n",
      "lat                                   8\n",
      "long                                  8\n",
      "neighbourhood                        16\n",
      "neighbourhood group                  29\n",
      "cancellation_policy                  76\n",
      "instant_bookable                    105\n",
      "number of reviews                   180\n",
      "Construction year                   214\n",
      "price                               247\n",
      "NAME                                250\n",
      "service fee                         273\n",
      "host_identity_verified              289\n",
      "calculated host listings count      308\n",
      "review rate number                  315\n",
      "host name                           392\n",
      "minimum nights                      398\n",
      "availability 365                    448\n",
      "reviews per month                 15371\n",
      "last review                       15385\n",
      "house_rules                       50794\n",
      "license                           99161\n",
      "dtype: int64\n"
     ]
    }
   ],
   "source": [
    "## Check for missing values in the dataframe and display the count in ascending order.\n",
    "print(df.isnull().sum().sort_values(ascending=True))"
   ]
  },
  {
   "cell_type": "code",
   "execution_count": 23,
   "id": "7a691fba",
   "metadata": {
    "id": "7a691fba"
   },
   "outputs": [
    {
     "name": "stdout",
     "output_type": "stream",
     "text": [
      "                                                    NAME  \\\n",
      "0                     Clean & quiet apt home by the park   \n",
      "1                                  Skylit Midtown Castle   \n",
      "2                    THE VILLAGE OF HARLEM....NEW YORK !   \n",
      "3                                                    NaN   \n",
      "4       Entire Apt: Spacious Studio/Loft by central park   \n",
      "...                                                  ...   \n",
      "102053               Cozy bright room near Prospect Park   \n",
      "102054         Private Bedroom with Amazing Rooftop View   \n",
      "102055     Pretty Brooklyn One-Bedroom for 2 to 4 people   \n",
      "102056        Room & private bathroom in historic Harlem   \n",
      "102057                                   Rosalee Stewart   \n",
      "\n",
      "       host_identity_verified host name neighbourhood group  \\\n",
      "0                 unconfirmed  Madaline            Brooklyn   \n",
      "1                    verified     Jenna           Manhattan   \n",
      "2                         NaN     Elise           Manhattan   \n",
      "3                 unconfirmed     Garry            Brooklyn   \n",
      "4                    verified    Lyndon           Manhattan   \n",
      "...                       ...       ...                 ...   \n",
      "102053            unconfirmed    Mariam            Brooklyn   \n",
      "102054               verified      Trey            Brooklyn   \n",
      "102055               verified   Michael            Brooklyn   \n",
      "102056            unconfirmed   Shireen           Manhattan   \n",
      "102057               verified   Stanley           Manhattan   \n",
      "\n",
      "             neighbourhood       lat      long instant_bookable  \\\n",
      "0               Kensington  40.64749 -73.97237            False   \n",
      "1                  Midtown  40.75362 -73.98377            False   \n",
      "2                   Harlem  40.80902 -73.94190             True   \n",
      "3             Clinton Hill  40.68514 -73.95976             True   \n",
      "4              East Harlem  40.79851 -73.94399            False   \n",
      "...                    ...       ...       ...              ...   \n",
      "102053            Flatbush  40.64945 -73.96108             True   \n",
      "102054            Bushwick  40.69872 -73.92718            False   \n",
      "102055  Bedford-Stuyvesant  40.67810 -73.90822             True   \n",
      "102056              Harlem  40.81248 -73.94317             True   \n",
      "102057              Harlem  40.81315 -73.94747            False   \n",
      "\n",
      "       cancellation_policy        room type  ...  service fee minimum nights  \\\n",
      "0                   strict     Private room  ...        $193            10.0   \n",
      "1                 moderate  Entire home/apt  ...         $28            30.0   \n",
      "2                 flexible     Private room  ...        $124             3.0   \n",
      "3                 moderate  Entire home/apt  ...         $74            30.0   \n",
      "4                 moderate  Entire home/apt  ...         $41            10.0   \n",
      "...                    ...              ...  ...          ...            ...   \n",
      "102053            moderate     Private room  ...          NaN            7.0   \n",
      "102054            flexible     Private room  ...          NaN            1.0   \n",
      "102055            moderate  Entire home/apt  ...          NaN            2.0   \n",
      "102056              strict     Private room  ...          NaN            2.0   \n",
      "102057            flexible  Entire home/apt  ...          NaN            4.0   \n",
      "\n",
      "       number of reviews  last review  reviews per month review rate number  \\\n",
      "0                    9.0   10/19/2021               0.21                4.0   \n",
      "1                   45.0    5/21/2022               0.38                4.0   \n",
      "2                    0.0          NaN                NaN                5.0   \n",
      "3                  270.0     7/5/2019               4.64                4.0   \n",
      "4                    9.0   11/19/2018               0.10                3.0   \n",
      "...                  ...          ...                ...                ...   \n",
      "102053              12.0    3/27/2019               0.44                5.0   \n",
      "102054              19.0    8/31/2017               0.72                3.0   \n",
      "102055              50.0    6/26/2019               3.12                4.0   \n",
      "102056               0.0          NaN                NaN                1.0   \n",
      "102057              22.0    6/15/2019               0.85                4.0   \n",
      "\n",
      "        calculated host listings count  availability 365  \\\n",
      "0                                  6.0             286.0   \n",
      "1                                  2.0             228.0   \n",
      "2                                  1.0             352.0   \n",
      "3                                  1.0             322.0   \n",
      "4                                  1.0             289.0   \n",
      "...                                ...               ...   \n",
      "102053                             1.0               0.0   \n",
      "102054                             2.0               0.0   \n",
      "102055                             2.0             235.0   \n",
      "102056                             1.0               0.0   \n",
      "102057                             1.0             238.0   \n",
      "\n",
      "                                              house_rules  license  \n",
      "0       Clean up and treat the home the way you'd like...      NaN  \n",
      "1       Pet friendly but please confirm with me if the...      NaN  \n",
      "2       I encourage you to use my kitchen, cooking and...      NaN  \n",
      "3                                                     NaN      NaN  \n",
      "4       Please no smoking in the house, porch or on th...      NaN  \n",
      "...                                                   ...      ...  \n",
      "102053  Shoes off Clean After yourself Turn Lights and...      NaN  \n",
      "102054                                             #NAME?      NaN  \n",
      "102055  * Check out: 10am * We made an effort to keep ...      NaN  \n",
      "102056  Each of us is working and/or going to school a...      NaN  \n",
      "102057  Please remember that this is a residential bui...      NaN  \n",
      "\n",
      "[99163 rows x 22 columns]\n"
     ]
    }
   ],
   "source": [
    "## Check whether there are any duplicate values in the dataframe and if present remove them.\n",
    "df.drop_duplicates(inplace=True)\n",
    "print(df)"
   ]
  },
  {
   "cell_type": "code",
   "execution_count": 22,
   "id": "5b1596fa",
   "metadata": {
    "id": "5b1596fa"
   },
   "outputs": [
    {
     "name": "stdout",
     "output_type": "stream",
     "text": [
      "99163\n"
     ]
    }
   ],
   "source": [
    "## Display the total number of records in the dataframe after removing the duplicates.\n",
    "print(len(df))"
   ]
  },
  {
   "cell_type": "markdown",
   "id": "1bf8912c",
   "metadata": {
    "id": "1bf8912c"
   },
   "source": [
    "## Task 3: Data Transformation\n",
    "\n",
    "\n",
    "- Rename the column `availability 365` to `days_booked`\n",
    "- Convert all column names to lowercase and replace the spaces in the column names with an underscore \"_\".\n",
    "\n",
    "\n",
    "Please include the code in the cells below."
   ]
  },
  {
   "cell_type": "code",
   "execution_count": 28,
   "id": "3adf9b6b",
   "metadata": {
    "id": "3adf9b6b"
   },
   "outputs": [
    {
     "name": "stdout",
     "output_type": "stream",
     "text": [
      "Index(['name', 'host_identity_verified', 'host_name', 'neighbourhood_group',\n",
      "       'neighbourhood', 'lat', 'long', 'instant_bookable',\n",
      "       'cancellation_policy', 'room_type', 'construction_year', 'price',\n",
      "       'service_fee', 'minimum_nights', 'number_of_reviews', 'last_review',\n",
      "       'reviews_per_month', 'review_rate_number',\n",
      "       'calculated_host_listings_count', 'days_booked', 'house_rules',\n",
      "       'license'],\n",
      "      dtype='object')\n"
     ]
    }
   ],
   "source": [
    "## Rename the column.\n",
    "df = df.rename(columns={'availability 365': 'days_booked'})\n",
    "print(df.keys())"
   ]
  },
  {
   "cell_type": "code",
   "execution_count": 29,
   "id": "9e968504",
   "metadata": {
    "id": "9e968504"
   },
   "outputs": [
    {
     "name": "stdout",
     "output_type": "stream",
     "text": [
      "Index(['name', 'host_identity_verified', 'host_name', 'neighbourhood_group',\n",
      "       'neighbourhood', 'lat', 'long', 'instant_bookable',\n",
      "       'cancellation_policy', 'room_type', 'construction_year', 'price',\n",
      "       'service_fee', 'minimum_nights', 'number_of_reviews', 'last_review',\n",
      "       'reviews_per_month', 'review_rate_number',\n",
      "       'calculated_host_listings_count', 'days_booked', 'house_rules',\n",
      "       'license'],\n",
      "      dtype='object')\n"
     ]
    }
   ],
   "source": [
    "## Convert all column names to lowercase and replace the spaces with an underscore \"_\"\n",
    "df.columns = df.columns.str.lower().str.replace(' ', '_')\n",
    "print(df.columns)"
   ]
  },
  {
   "cell_type": "markdown",
   "id": "f5fdef8b",
   "metadata": {
    "id": "f5fdef8b"
   },
   "source": [
    "## Task 4: Exploratory Data Analysis\n",
    "\n",
    "- List the count of various room types avaliable in the dataset.\n",
    "- Which room type has the most strict cancellation policy?\n",
    "\n",
    "\n",
    "Please include the code in the cells below."
   ]
  },
  {
   "cell_type": "code",
   "execution_count": 30,
   "id": "c171e196",
   "metadata": {
    "id": "c171e196"
   },
   "outputs": [
    {
     "name": "stdout",
     "output_type": "stream",
     "text": [
      "room_type\n",
      "Entire home/apt    52003\n",
      "Private room       44895\n",
      "Shared room         2150\n",
      "Hotel room           115\n",
      "Name: count, dtype: int64\n"
     ]
    }
   ],
   "source": [
    "## List the count of various room types avaliable with Airbnb\n",
    "print(df['room_type'].value_counts())"
   ]
  },
  {
   "cell_type": "code",
   "execution_count": 43,
   "id": "7f651811",
   "metadata": {
    "id": "7f651811"
   },
   "outputs": [
    {
     "name": "stdout",
     "output_type": "stream",
     "text": [
      "              room_type cancellation_policy\n",
      "0          Private room              strict\n",
      "8          Private room              strict\n",
      "9          Private room              strict\n",
      "12         Private room              strict\n",
      "24         Private room              strict\n",
      "...                 ...                 ...\n",
      "102037     Private room              strict\n",
      "102040     Private room              strict\n",
      "102042     Private room              strict\n",
      "102049  Entire home/apt              strict\n",
      "102056     Private room              strict\n",
      "\n",
      "[32930 rows x 2 columns]\n"
     ]
    }
   ],
   "source": [
    "## Which room type adheres to more strict cancellation policy\n",
    "cancellation = df[df['cancellation_policy'] == 'strict']\n",
    "print(cancellation[['room_type', 'cancellation_policy']])"
   ]
  }
 ],
 "metadata": {
  "colab": {
   "provenance": []
  },
  "kernelspec": {
   "display_name": "Python 3 (ipykernel)",
   "language": "python",
   "name": "python3"
  },
  "language_info": {
   "codemirror_mode": {
    "name": "ipython",
    "version": 3
   },
   "file_extension": ".py",
   "mimetype": "text/x-python",
   "name": "python",
   "nbconvert_exporter": "python",
   "pygments_lexer": "ipython3",
   "version": "3.11.4"
  },
  "nteract": {
   "version": "0.28.0"
  }
 },
 "nbformat": 4,
 "nbformat_minor": 5
}
